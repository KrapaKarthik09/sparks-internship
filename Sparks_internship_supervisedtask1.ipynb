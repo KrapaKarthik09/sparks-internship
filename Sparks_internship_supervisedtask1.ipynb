{
  "nbformat": 4,
  "nbformat_minor": 0,
  "metadata": {
    "colab": {
      "name": "Sparks-internship-supervisedtask1.ipynb",
      "provenance": [],
      "authorship_tag": "ABX9TyOdRhL84ymquDL48I/ZPl/A",
      "include_colab_link": true
    },
    "kernelspec": {
      "name": "python3",
      "display_name": "Python 3"
    }
  },
  "cells": [
    {
      "cell_type": "markdown",
      "metadata": {
        "id": "view-in-github",
        "colab_type": "text"
      },
      "source": [
        "<a href=\"https://colab.research.google.com/github/KrapaKarthik09/sparks-internship/blob/main/Sparks_internship_supervisedtask1.ipynb\" target=\"_parent\"><img src=\"https://colab.research.google.com/assets/colab-badge.svg\" alt=\"Open In Colab\"/></a>"
      ]
    },
    {
      "cell_type": "markdown",
      "metadata": {
        "id": "PmU-ZUpk6rBL"
      },
      "source": [
        "# Prediction Using Supervised ML"
      ]
    },
    {
      "cell_type": "markdown",
      "metadata": {
        "id": "YN-ZsA82B12B"
      },
      "source": [
        "# Importing Libs"
      ]
    },
    {
      "cell_type": "code",
      "metadata": {
        "id": "LT7vhTpA5jI1"
      },
      "source": [
        "#Importing\r\n",
        "import pandas as pd\r\n",
        "import numpy as np\r\n",
        "import matplotlib.pyplot as plt\r\n",
        "plt.style.use(\"ggplot\")\r\n",
        "import seaborn as sns\r\n",
        "from sklearn.model_selection import train_test_split\r\n",
        "from sklearn import linear_model\r\n",
        "\r\n"
      ],
      "execution_count": 24,
      "outputs": []
    },
    {
      "cell_type": "markdown",
      "metadata": {
        "id": "Mg4yZyCQAdDV"
      },
      "source": [
        "# Data Upload and Details"
      ]
    },
    {
      "cell_type": "code",
      "metadata": {
        "colab": {
          "base_uri": "https://localhost:8080/",
          "height": 206
        },
        "id": "gAM9S59i8YZy",
        "outputId": "bdcfbded-a5e2-44f4-cfb0-19226c549680"
      },
      "source": [
        "#Reading the Data\r\n",
        "df=pd.read_csv(\"http://bit.ly/w-data\")\r\n",
        "df.head()"
      ],
      "execution_count": 2,
      "outputs": [
        {
          "output_type": "execute_result",
          "data": {
            "text/html": [
              "<div>\n",
              "<style scoped>\n",
              "    .dataframe tbody tr th:only-of-type {\n",
              "        vertical-align: middle;\n",
              "    }\n",
              "\n",
              "    .dataframe tbody tr th {\n",
              "        vertical-align: top;\n",
              "    }\n",
              "\n",
              "    .dataframe thead th {\n",
              "        text-align: right;\n",
              "    }\n",
              "</style>\n",
              "<table border=\"1\" class=\"dataframe\">\n",
              "  <thead>\n",
              "    <tr style=\"text-align: right;\">\n",
              "      <th></th>\n",
              "      <th>Hours</th>\n",
              "      <th>Scores</th>\n",
              "    </tr>\n",
              "  </thead>\n",
              "  <tbody>\n",
              "    <tr>\n",
              "      <th>0</th>\n",
              "      <td>2.5</td>\n",
              "      <td>21</td>\n",
              "    </tr>\n",
              "    <tr>\n",
              "      <th>1</th>\n",
              "      <td>5.1</td>\n",
              "      <td>47</td>\n",
              "    </tr>\n",
              "    <tr>\n",
              "      <th>2</th>\n",
              "      <td>3.2</td>\n",
              "      <td>27</td>\n",
              "    </tr>\n",
              "    <tr>\n",
              "      <th>3</th>\n",
              "      <td>8.5</td>\n",
              "      <td>75</td>\n",
              "    </tr>\n",
              "    <tr>\n",
              "      <th>4</th>\n",
              "      <td>3.5</td>\n",
              "      <td>30</td>\n",
              "    </tr>\n",
              "  </tbody>\n",
              "</table>\n",
              "</div>"
            ],
            "text/plain": [
              "   Hours  Scores\n",
              "0    2.5      21\n",
              "1    5.1      47\n",
              "2    3.2      27\n",
              "3    8.5      75\n",
              "4    3.5      30"
            ]
          },
          "metadata": {
            "tags": []
          },
          "execution_count": 2
        }
      ]
    },
    {
      "cell_type": "code",
      "metadata": {
        "colab": {
          "base_uri": "https://localhost:8080/"
        },
        "id": "DsGfBF-Y9KkZ",
        "outputId": "5604bc93-7696-4da5-f1ab-f2f0a93cb0da"
      },
      "source": [
        "df.shape"
      ],
      "execution_count": 6,
      "outputs": [
        {
          "output_type": "execute_result",
          "data": {
            "text/plain": [
              "(25, 2)"
            ]
          },
          "metadata": {
            "tags": []
          },
          "execution_count": 6
        }
      ]
    },
    {
      "cell_type": "code",
      "metadata": {
        "colab": {
          "base_uri": "https://localhost:8080/"
        },
        "id": "8n2KbhiO80VT",
        "outputId": "11eb1735-28cd-42ea-8544-e85494bb7576"
      },
      "source": [
        "#Knowing the Details on Data\r\n",
        "df.info()"
      ],
      "execution_count": 4,
      "outputs": [
        {
          "output_type": "stream",
          "text": [
            "<class 'pandas.core.frame.DataFrame'>\n",
            "RangeIndex: 25 entries, 0 to 24\n",
            "Data columns (total 2 columns):\n",
            " #   Column  Non-Null Count  Dtype  \n",
            "---  ------  --------------  -----  \n",
            " 0   Hours   25 non-null     float64\n",
            " 1   Scores  25 non-null     int64  \n",
            "dtypes: float64(1), int64(1)\n",
            "memory usage: 528.0 bytes\n"
          ],
          "name": "stdout"
        }
      ]
    },
    {
      "cell_type": "code",
      "metadata": {
        "colab": {
          "base_uri": "https://localhost:8080/"
        },
        "id": "V-uqZo5q95wO",
        "outputId": "04d2c34d-8438-4e6f-adce-2e0469c74154"
      },
      "source": [
        "df.isna().sum()"
      ],
      "execution_count": 9,
      "outputs": [
        {
          "output_type": "execute_result",
          "data": {
            "text/plain": [
              "Hours     0\n",
              "Scores    0\n",
              "dtype: int64"
            ]
          },
          "metadata": {
            "tags": []
          },
          "execution_count": 9
        }
      ]
    },
    {
      "cell_type": "code",
      "metadata": {
        "id": "JpiBOYea9QJ6"
      },
      "source": [
        "#therefore there are no null values in the dataset"
      ],
      "execution_count": null,
      "outputs": []
    },
    {
      "cell_type": "markdown",
      "metadata": {
        "id": "QRxqOBQVAGu-"
      },
      "source": [
        "# Visualising the Data"
      ]
    },
    {
      "cell_type": "code",
      "metadata": {
        "colab": {
          "base_uri": "https://localhost:8080/",
          "height": 299
        },
        "id": "Mkl0MEao-PVg",
        "outputId": "de20f6f6-e731-4c01-9b6e-c634169b58a7"
      },
      "source": [
        "plt.scatter(df[\"Hours\"],df[\"Scores\"],color='purple')\r\n",
        "plt.title(\"Graph\")\r\n",
        "plt.xlabel(\"Hours\")\r\n",
        "plt.ylabel(\"Scores\")\r\n",
        "plt.show()"
      ],
      "execution_count": 13,
      "outputs": [
        {
          "output_type": "display_data",
          "data": {
            "image/png": "[encoded data removed]",
            "text/plain": [
              "<Figure size 432x288 with 1 Axes>"
            ]
          },
          "metadata": {
            "tags": []
          }
        }
      ]
    },
    {
      "cell_type": "markdown",
      "metadata": {
        "id": "d6B1LTPtAuSq"
      },
      "source": [
        "# Preparing the Data"
      ]
    },
    {
      "cell_type": "code",
      "metadata": {
        "id": "DnKW8Ear_-rB"
      },
      "source": [
        "X=df.drop(\"Scores\",axis=1).values#Independent Variable\r\n",
        "y=df[\"Scores\"].values#Response Variable"
      ],
      "execution_count": 14,
      "outputs": []
    },
    {
      "cell_type": "code",
      "metadata": {
        "colab": {
          "base_uri": "https://localhost:8080/"
        },
        "id": "VTj3ZC6rBSxm",
        "outputId": "67668d34-120e-4ad8-86c1-0e63c3779db7"
      },
      "source": [
        "print(\"The Shape of X->\",X.shape)\r\n",
        "print(\"The Shape of y->\",y.shape)"
      ],
      "execution_count": 16,
      "outputs": [
        {
          "output_type": "stream",
          "text": [
            "The Shape of X-> (25, 1)\n",
            "The Shape of y-> (25,)\n"
          ],
          "name": "stdout"
        }
      ]
    },
    {
      "cell_type": "code",
      "metadata": {
        "id": "CPdajwpjBjM0"
      },
      "source": [
        "X_train,X_test,y_train,y_test=train_test_split(X,y,test_size=0.2,random_state=24)"
      ],
      "execution_count": 18,
      "outputs": []
    },
    {
      "cell_type": "code",
      "metadata": {
        "colab": {
          "base_uri": "https://localhost:8080/"
        },
        "id": "gZP0xCpDCZQO",
        "outputId": "0398dd5f-59d7-4313-aec2-1b241127bc6b"
      },
      "source": [
        "print(X_train)\r\n",
        "print(\"Shape of X_train : \",X_train.shape)"
      ],
      "execution_count": 22,
      "outputs": [
        {
          "output_type": "stream",
          "text": [
            "[[8.3]\n",
            " [3.3]\n",
            " [7.4]\n",
            " [5.5]\n",
            " [7.7]\n",
            " [1.1]\n",
            " [4.5]\n",
            " [5.9]\n",
            " [7.8]\n",
            " [6.9]\n",
            " [2.7]\n",
            " [6.1]\n",
            " [8.9]\n",
            " [3.5]\n",
            " [5.1]\n",
            " [4.8]\n",
            " [1.9]\n",
            " [2.5]\n",
            " [8.5]\n",
            " [3.2]]\n",
            "Shape of X_train :  (20, 1)\n"
          ],
          "name": "stdout"
        }
      ]
    },
    {
      "cell_type": "code",
      "metadata": {
        "colab": {
          "base_uri": "https://localhost:8080/"
        },
        "id": "zXlKDfHMC4kw",
        "outputId": "a6869ffc-2647-4dd0-9bb0-df6ea2b55b9b"
      },
      "source": [
        "print(y_train)\r\n",
        "print(\"Shape of y_train : \",y_train.shape)"
      ],
      "execution_count": 23,
      "outputs": [
        {
          "output_type": "stream",
          "text": [
            "[81 42 69 60 85 17 41 62 86 76 30 67 95 30 47 54 24 21 75 27]\n",
            "Shape of y_train :  (20,)\n"
          ],
          "name": "stdout"
        }
      ]
    },
    {
      "cell_type": "markdown",
      "metadata": {
        "id": "F0JrHzjbMxKS"
      },
      "source": [
        "# Linear Reg:Model Fitting"
      ]
    },
    {
      "cell_type": "code",
      "metadata": {
        "colab": {
          "base_uri": "https://localhost:8080/"
        },
        "id": "Mh1xkmq-C94Z",
        "outputId": "8739787a-2d60-49bf-ffd8-389f826e959d"
      },
      "source": [
        "reg = linear_model.LinearRegression() #Creating an Object\r\n",
        "reg.fit(X_train,y_train)#fitting onto our training data"
      ],
      "execution_count": 26,
      "outputs": [
        {
          "output_type": "execute_result",
          "data": {
            "text/plain": [
              "LinearRegression(copy_X=True, fit_intercept=True, n_jobs=None, normalize=False)"
            ]
          },
          "metadata": {
            "tags": []
          },
          "execution_count": 26
        }
      ]
    },
    {
      "cell_type": "code",
      "metadata": {
        "colab": {
          "base_uri": "https://localhost:8080/"
        },
        "id": "DwUPovseFYyZ",
        "outputId": "44f8619f-05d5-499c-cbf6-a2294e4c4a87"
      },
      "source": [
        "print('Coefficients: \\n', reg.coef_) "
      ],
      "execution_count": 27,
      "outputs": [
        {
          "output_type": "stream",
          "text": [
            "Coefficients: \n",
            " [9.95819213]\n"
          ],
          "name": "stdout"
        }
      ]
    },
    {
      "cell_type": "code",
      "metadata": {
        "id": "rs7yP-fpIf-d"
      },
      "source": [
        "line=reg.coef_*X+reg.intercept_"
      ],
      "execution_count": 37,
      "outputs": []
    },
    {
      "cell_type": "code",
      "metadata": {
        "colab": {
          "base_uri": "https://localhost:8080/"
        },
        "id": "asTw135dIr8P",
        "outputId": "0809d18f-d3f6-4b43-f91a-b600cb0b1c60"
      },
      "source": [
        "print(line)"
      ],
      "execution_count": 38,
      "outputs": [
        {
          "output_type": "stream",
          "text": [
            "[[26.76622587]\n",
            " [52.65752542]\n",
            " [33.73696037]\n",
            " [86.51537867]\n",
            " [36.72441801]\n",
            " [16.80803374]\n",
            " [93.48611316]\n",
            " [56.64080227]\n",
            " [84.52374024]\n",
            " [28.7578643 ]\n",
            " [78.54882496]\n",
            " [60.62407912]\n",
            " [46.68261014]\n",
            " [34.73277958]\n",
            " [12.82475689]\n",
            " [90.49865552]\n",
            " [26.76622587]\n",
            " [20.79131059]\n",
            " [62.61571755]\n",
            " [75.56136732]\n",
            " [28.7578643 ]\n",
            " [49.67006778]\n",
            " [39.71187564]\n",
            " [70.58227125]\n",
            " [79.54464417]]\n"
          ],
          "name": "stdout"
        }
      ]
    },
    {
      "cell_type": "code",
      "metadata": {
        "colab": {
          "base_uri": "https://localhost:8080/",
          "height": 265
        },
        "id": "8I8gGw0UIzfO",
        "outputId": "44dbc2f7-2192-47f5-b240-bcab521fd641"
      },
      "source": [
        "plt.plot(X,line,color='purple')\r\n",
        "plt.scatter(X,y,color='orange')\r\n",
        "plt.show()"
      ],
      "execution_count": 39,
      "outputs": [
        {
          "output_type": "display_data",
          "data": {
            "image/png": "[encoded data removed]",
            "text/plain": [
              "<Figure size 432x288 with 1 Axes>"
            ]
          },
          "metadata": {
            "tags": []
          }
        }
      ]
    },
    {
      "cell_type": "markdown",
      "metadata": {
        "id": "YKqLWW5wNBt5"
      },
      "source": [
        "#Scores"
      ]
    },
    {
      "cell_type": "code",
      "metadata": {
        "colab": {
          "base_uri": "https://localhost:8080/"
        },
        "id": "Hk_NUXtAJSIQ",
        "outputId": "039f5325-b42f-4bf5-9cd5-f63a9297a68c"
      },
      "source": [
        "y_pred_train = reg.predict(X_train)#Predicting on Train Data\r\n",
        "df_train=pd.DataFrame({\"Actual\": y_train,\"Predictions\":y_pred_train})\r\n",
        "print(df_train)"
      ],
      "execution_count": 41,
      "outputs": [
        {
          "output_type": "stream",
          "text": [
            "    Actual  Predictions\n",
            "0       81    84.523740\n",
            "1       42    34.732780\n",
            "2       69    75.561367\n",
            "3       60    56.640802\n",
            "4       85    78.548825\n",
            "5       17    12.824757\n",
            "6       41    46.682610\n",
            "7       62    60.624079\n",
            "8       86    79.544644\n",
            "9       76    70.582271\n",
            "10      30    28.757864\n",
            "11      67    62.615718\n",
            "12      95    90.498656\n",
            "13      30    36.724418\n",
            "14      47    52.657525\n",
            "15      54    49.670068\n",
            "16      24    20.791311\n",
            "17      21    26.766226\n",
            "18      75    86.515379\n",
            "19      27    33.736960\n"
          ],
          "name": "stdout"
        }
      ]
    },
    {
      "cell_type": "code",
      "metadata": {
        "colab": {
          "base_uri": "https://localhost:8080/"
        },
        "id": "1SxD0d9-KFK1",
        "outputId": "bc9c88e9-7bda-4f94-e9ac-d000de9867fa"
      },
      "source": [
        "print('Bias Score: {}'.format(reg.score(X_train,y_train)))"
      ],
      "execution_count": 42,
      "outputs": [
        {
          "output_type": "stream",
          "text": [
            "Bias Score: 0.943706685921912\n"
          ],
          "name": "stdout"
        }
      ]
    },
    {
      "cell_type": "code",
      "metadata": {
        "colab": {
          "base_uri": "https://localhost:8080/"
        },
        "id": "vNEfFn_JKe1t",
        "outputId": "bd576dcb-0d52-4831-f579-ca4782c97d89"
      },
      "source": [
        "y_pred_test = reg.predict(X_test)#Predicting on Train Data\r\n",
        "df_test=pd.DataFrame({\"Actual\": y_test,\"Predictions\":y_pred_test})\r\n",
        "print(df_test)"
      ],
      "execution_count": 43,
      "outputs": [
        {
          "output_type": "stream",
          "text": [
            "   Actual  Predictions\n",
            "0      30    26.766226\n",
            "1      88    93.486113\n",
            "2      35    39.711876\n",
            "3      20    16.808034\n",
            "4      25    28.757864\n"
          ],
          "name": "stdout"
        }
      ]
    },
    {
      "cell_type": "code",
      "metadata": {
        "colab": {
          "base_uri": "https://localhost:8080/"
        },
        "id": "r-0GgxYfFolb",
        "outputId": "0e2c3002-f84a-4240-c511-572dfad4ed47"
      },
      "source": [
        "print('Variance score: {}'.format(reg.score(X_test, y_test))) "
      ],
      "execution_count": 44,
      "outputs": [
        {
          "output_type": "stream",
          "text": [
            "Variance score: 0.9714834608072798\n"
          ],
          "name": "stdout"
        }
      ]
    },
    {
      "cell_type": "markdown",
      "metadata": {
        "id": "-3WMWkPQNIQr"
      },
      "source": [
        "# Given Task: Score of Student Studying 9.25 hrs"
      ]
    },
    {
      "cell_type": "code",
      "metadata": {
        "colab": {
          "base_uri": "https://localhost:8080/"
        },
        "id": "YXSOXx3CK1kH",
        "outputId": "f32eeb06-6780-432a-c16d-2f047243120f"
      },
      "source": [
        "given_hours=[[9.25]]\r\n",
        "task_pred=reg.predict(given_hours)\r\n",
        "print(\"Score Prediction : {} for given {} hours \".format(task_pred[0],given_hours[0][0]))"
      ],
      "execution_count": 49,
      "outputs": [
        {
          "output_type": "stream",
          "text": [
            "Score Prediction : 93.98402276410785 for given 9.25 hours \n"
          ],
          "name": "stdout"
        }
      ]
    },
    {
      "cell_type": "markdown",
      "metadata": {
        "id": "hSBv1TiUF2ZZ"
      },
      "source": [
        "# Residual Errors"
      ]
    },
    {
      "cell_type": "code",
      "metadata": {
        "colab": {
          "base_uri": "https://localhost:8080/",
          "height": 282
        },
        "id": "HKkgqiA7Fyx2",
        "outputId": "332e02d2-34ad-483e-c602-2ac898d55c58"
      },
      "source": [
        "plt.scatter(reg.predict(X_train), reg.predict(X_train) - y_train, \r\n",
        "            color = \"red\", s = 10, label = 'Train Data') \r\n",
        "\r\n",
        "plt.scatter(reg.predict(X_test), reg.predict(X_test) - y_test, \r\n",
        "            color = \"blue\", s = 10, label = 'Test Data') \r\n",
        "plt.hlines(y = 0, xmin = 0, xmax = 50, linewidth = 2) ## plotting line for zero residual error \r\n",
        "plt.legend(loc = 'upper right') \r\n",
        "plt.title(\"Residual errors\") \r\n",
        "plt.show() "
      ],
      "execution_count": 36,
      "outputs": [
        {
          "output_type": "display_data",
          "data": {
            "image/png": "[encoded data removed]",
            "text/plain": [
              "<Figure size 432x288 with 1 Axes>"
            ]
          },
          "metadata": {
            "tags": []
          }
        }
      ]
    }
  ]
}